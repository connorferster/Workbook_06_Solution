{
 "cells": [
  {
   "cell_type": "code",
   "execution_count": 57,
   "metadata": {},
   "outputs": [],
   "source": [
    "from __future__ import annotations\n",
    "from dataclasses import dataclass\n",
    "from typing import Optional\n",
    "import ipytest\n",
    "ipytest.autoconfig()"
   ]
  },
  {
   "cell_type": "markdown",
   "metadata": {},
   "source": [
    "\n",
    "In the workbook directory there is a file called `300x900c35.cti`. This is an spColumn CTI file and you can open it up in JupyterLab to view it. The default file format to save an spColumn file is the `.col` format, which is binary. However, you can also select to save a CTI file instead from the spColumn file save dialog to save your column as a text file.\n",
    "\n",
    "You can read about how the `.cti` spColumn file format works here: https://structurepoint.org/spColumn-Online-Manual/spColumn/Appendix/spColumn_Text_Input_CTI_file_format.htm"
   ]
  },
  {
   "cell_type": "markdown",
   "metadata": {},
   "source": [
    "# Task A\n",
    "\n",
    "Design a function called `read_cti_file` that takes filename (as a str) as the single parameter and returns the data in the file.\n",
    "\n",
    "After a visual inspection of the `.cti` file, which file reading recipe, of the three we have used so far (in Lesson 02, Lesson 03, and Lesson 04), may be most advantageous? If you are not sure, try them out and see what the file data looks like after you read them."
   ]
  },
  {
   "cell_type": "markdown",
   "metadata": {},
   "source": [
    "## Task A Response"
   ]
  },
  {
   "cell_type": "code",
   "execution_count": 53,
   "metadata": {},
   "outputs": [
    {
     "name": "stdout",
     "output_type": "stream",
     "text": [
      "\u001b[32m.\u001b[0m\u001b[32m.\u001b[0m\u001b[32m                                                                                           [100%]\u001b[0m\n",
      "\u001b[32m\u001b[32m\u001b[1m2 passed\u001b[0m\u001b[32m in 0.02s\u001b[0m\u001b[0m\n"
     ]
    }
   ],
   "source": [
    "import csv\n",
    "\n",
    "def read_cti_file(filename: str) -> list[list]:\n",
    "    \"\"\"\n",
    "    Reads the data in 'filename', an spColumn .cti file.\n",
    "    \"\"\"\n",
    "    acc = []\n",
    "    with open(filename, 'r') as file:\n",
    "        reader = csv.reader(file, )\n",
    "        for line in reader:\n",
    "            acc.append(line)\n",
    "    return acc\n",
    "\n",
    "\n",
    "def test_read_cti_file():\n",
    "    test_data = read_cti_file('300x900c55.cti')\n",
    "    assert test_data[0] == ['#spColumn Text Input (CTI) File']\n",
    "    assert test_data[17] == ['[Irregular Options]']\n",
    "    \n",
    "ipytest.run()"
   ]
  },
  {
   "cell_type": "markdown",
   "metadata": {},
   "source": [
    "# Task B\n",
    "\n",
    "Design a function that will loop through all of the data and convert any strings which are numbers into numbers.\n",
    "\n",
    "The signature of this function will be as follows: `convert_strings_to_numbers(file_data: list) -> list`\n",
    "\n",
    "Note: depending on how you have read your cti file data, your data may either be a string, a list of string, or a list of lists of strings. If it is a string, you should split your file data on the new line character `\\n` so it is at least a list of lines.\n",
    "\n",
    "#### Tips that _may_ be useful\n",
    "\n",
    "1. There is a built-in function called `isinstance(obj, type)` that returns `True` if the `obj` is of the type given in `type`. e.g. \n",
    "```python\n",
    "isinstance(item, list) # Either True or False\n",
    "```\n",
    "\n",
    "2. There is a technique in computer science known as _recursion_. When working with nested data (e.g. lists within lists) it is sometimes useful to use recursion. Often recursion is implemented as calling a function within that function's implementation (which is a thing you can do), e.g. \n",
    "\n",
    "```python\n",
    "def print_nested_list_items(my_data: list) -> None:\n",
    "    \"\"\"\n",
    "    Prints each individual item within a nested list structure regardless\n",
    "    of how many levels deep they are.\n",
    "    \"\"\"\n",
    "    for item in my_data:\n",
    "        if isinstance(item, list):\n",
    "            print_nested_list_items(item)\n",
    "        else:\n",
    "            print(item)\n",
    "```"
   ]
  },
  {
   "cell_type": "markdown",
   "metadata": {},
   "source": [
    "## Task B Response"
   ]
  },
  {
   "cell_type": "code",
   "execution_count": 54,
   "metadata": {},
   "outputs": [
    {
     "name": "stdout",
     "output_type": "stream",
     "text": [
      "\u001b[32m.\u001b[0m\u001b[32m.\u001b[0m\u001b[32m                                                                                           [100%]\u001b[0m\n",
      "\u001b[32m\u001b[32m\u001b[1m2 passed\u001b[0m\u001b[32m in 0.02s\u001b[0m\u001b[0m\n"
     ]
    }
   ],
   "source": [
    "def convert_strings_to_numbers(file_data: list) -> list:\n",
    "    \"\"\"\n",
    "    Returns the data in 'file_data' but with the any numerical strings converted into strings.\n",
    "    \"\"\"\n",
    "    acc = []\n",
    "    for item in file_data:\n",
    "        if isinstance(item, list):\n",
    "            acc.append(convert_strings_to_numbers(item))\n",
    "        elif \".\" not in item and item.replace(\"-\",\"\").isnumeric():\n",
    "            acc.append(int(item))\n",
    "        elif \".\" in item and item.replace(\"-\",\"\").replace(\".\",\"\").isnumeric():\n",
    "            acc.append(float(item))\n",
    "        else:\n",
    "            acc.append(item)\n",
    "    return acc\n",
    "\n",
    "def test_convert_strings_to_numbers():\n",
    "    converted_file_data = convert_strings_to_numbers(read_cti_file(\"300x900c55.cti\"))\n",
    "    assert converted_file_data[18][0] == -2 # Test negative integers got converted\n",
    "    assert converted_file_data[18][7] == -1270.0 # Test negative floats got converted\n",
    "    assert converted_file_data[11][0] == '[Design Run Flag]' # Test strings stayed the same\n",
    "    \n",
    "ipytest.run()"
   ]
  },
  {
   "cell_type": "markdown",
   "metadata": {},
   "source": [
    "# Task C\n",
    "\n",
    "Design a **compound** data type to represent the broad structure of a `.cti` file. \n",
    "\n",
    "From a visual inspection of the CTI file, you may have noticed that the file is divided into sections, each section with its own header that looks something like this: `'[User Options]'`. For manipulating the CTI file, it would be useful to have the file data in a format that allows you to access the data in each section by the section name.\n",
    "\n",
    "Now, there are lots of sections to a CTI file. By creating a `dict` data type, you can _dynamically_ create each of the heading names. With a `dataclass` data type, you would have to manually create each heading option as an attribute of your new class. It is ultimately up to you which direction you go, each with its \"pros\" and \"cons\".\n",
    "\n",
    "Design a function that converts your file data into your new compound data type."
   ]
  },
  {
   "cell_type": "markdown",
   "metadata": {},
   "source": [
    "## Task C Response"
   ]
  },
  {
   "cell_type": "code",
   "execution_count": 112,
   "metadata": {},
   "outputs": [
    {
     "name": "stdout",
     "output_type": "stream",
     "text": [
      "\u001b[32m.\u001b[0m\u001b[32m.\u001b[0m\u001b[32m.\u001b[0m\u001b[32m                                                                                          [100%]\u001b[0m\n",
      "\u001b[32m\u001b[32m\u001b[1m3 passed\u001b[0m\u001b[32m in 0.03s\u001b[0m\u001b[0m\n"
     ]
    }
   ],
   "source": [
    "from typing import Dict\n",
    "CTIFile: Dict\n",
    "\n",
    "# Interp. A data type to represent the data in an spColumn .cti file\n",
    "# Keys are strings representing the headings within the file\n",
    "# Values is a list of lists of data representing the data that comes under that heading.\n",
    "#    Values consisting of a blank line (empty data in the file format) are represented by an empty list of list\n",
    "#    Headings in the file that do not have data below them (e.g. the first line of the file) have values of None\n",
    "#    to represent that there is no line of data after the heading.\n",
    "\n",
    "# Examples\n",
    "CTI_00 = {} # An empty file\n",
    "CTI_01 = {\n",
    "    \"#spColumn Text Input (CTI) File\": None, # This is the first line in the file\n",
    "    \"[spColumn Version]\": [[7.0]],\n",
    "    \"[Project]\": [[\"RJC Design Table\"]],\n",
    "    \"[Column ID]\": [[\"300x900A\"]],\n",
    "    ...: ... # There are many lines of data in the CTI file format\n",
    "}\n",
    "\n",
    "def file_data_to_ctifile(file_data: list) -> CTIFile:\n",
    "    \"\"\"\n",
    "    Returns a CTIFile dictionary from the data in 'file_data'\n",
    "    \"\"\"\n",
    "    cti_file = {}\n",
    "    current_section = \"\"\n",
    "    for line in file_data:\n",
    "        first_item = line[0]\n",
    "        if isinstance(first_item, str) and \"#\" in first_item:\n",
    "            cti_file.update({first_item: None})\n",
    "        elif isinstance(first_item, str) and \"[\" in first_item:\n",
    "            current_section = first_item\n",
    "            cti_file.update({current_section: []})\n",
    "        else:\n",
    "            cti_file[current_section].append(line)\n",
    "    return cti_file\n",
    "\n",
    "\n",
    "def test_file_data_to_ctifile():\n",
    "    converted_file_data = convert_strings_to_numbers(read_cti_file(\"300x900c55.cti\"))\n",
    "    cti_data = file_data_to_ctifile(converted_file_data)\n",
    "    test_data = [\n",
    "        [\"#Heading with no data\"],\n",
    "        [\"[Section Heading]\"],\n",
    "        [\"Data under section heading 1\", 2, 3],\n",
    "        [\"Data under section heading 2\", 3, 4],\n",
    "        [\"[New Section Heading]\"],\n",
    "        [\"Single piece of data under new section heading\"],\n",
    "    ]\n",
    "    test_cti = file_data_to_ctifile(test_data)\n",
    "    assert test_cti[\"#Heading with no data\"] is None\n",
    "    assert test_cti[\"[Section Heading]\"] == [[\"Data under section heading 1\", 2, 3], [\"Data under section heading 2\", 3, 4]]\n",
    "    assert test_cti[\"[New Section Heading]\"] == [[\"Single piece of data under new section heading\"]]\n",
    "    assert cti_data[\"[Factored Loads]\"] == [\n",
    "        [6],\n",
    "        [5600.0, 0.0, 0.0],\n",
    "        [5600.0, 0.0, -0.0],\n",
    "        [5000.0, 0.0, 0.0],\n",
    "        [5000.0, 0.0, -0.0],\n",
    "        [5000.0, 0.0, 0.0],\n",
    "        [5000.0, 0.0, -0.0],\n",
    "    ]\n",
    "        \n",
    "ipytest.run()\n"
   ]
  },
  {
   "cell_type": "markdown",
   "metadata": {},
   "source": [
    "# Task D\n",
    "\n",
    "Now that you have your `.cti` data in your data type, you can manipulate it relatively easily. For example, you could change all of the factored loads by changing the values in the list of lists that represent the factored loads in your data type.\n",
    "\n",
    "Design a function that takes two parameters, a `list[list[float]]` representing a factored load (Axial, Mx, My) and a `CTIFile` dictionary. **Your function will either return `None` -OR- it will return a new `CTIFile` dictionary (see \"Important thing to consider\", below).**\n",
    "\n",
    "Note: From trial and error (and/or reading the CTI file documentation at: https://structurepoint.org/spColumn-Online-Manual/spColumn/Appendix/spColumn_Text_Input_CTI_file_format.htm), you will find that to update the factored loads (and have them be recognized by spColumn), you need to update three pieces of information.\n",
    "\n",
    "1. In the `'[Factored Loads]'` section, you have to put in the new loads.\n",
    "2. At the top of the `'[Factored Loads]'` section, there is an integer representing the count of the number of factored loads in the file.\n",
    "3. In the `'[User Options]'` section, there is a single line of numbers in a list. These numbers have various meanings you can read about in the documentation. The number in the 18th position (if counting from 1) is an integer representing the count of the number of factored loads in the file. \n",
    "\n",
    "To update the factored loads, you must update **all three values**.\n",
    "\n",
    "**Important thing to consider:** In a previous lesson, I explained that some Python data types are _mutable_ and some are _immutable_. Both the `dict` and the `list` are _mutable_ so when you update the CTIFile dictionary, it will change the dictionary that exists outside of the function, even if you do not `return` it. This means that if you try changing your factored loads with your function then you are effectively _over-writing_ your existing data with your new data and you cannot get it back without re-opening the original file again.\n",
    "\n",
    "So, you have a decision that you can make: \n",
    "1. If you want to mutate the data in place then have your function return `None`. It will mutate your CTIFile in place and you do not need to return it.\n",
    "2. If you want your function to mutate a _copy_ of your original CTIFile dictionary (therefore leaving your original CTIFile dict untouched) then your function returns the _new_ CTIFile dictionary.\n",
    "\n",
    "Option 1 would look like this:\n",
    "```python\n",
    "my_cti_data # This is my CTIFile dictionary\n",
    "update_factored_loads([[3000, 100, 100]], my_cti_data) # This function would return None so we do not assign the return value to a variable\n",
    "print(my_cti_data[\"[Factored Loads]\"]) # You would now see the updated load in the file data\n",
    "```\n",
    "\n",
    "Option 2 would look like this:\n",
    "```python\n",
    "my_cti_data # This is my CTIFile dictionary\n",
    "my_updated_cti_data = update_factored_loads([[3000, 100, 100]], my_cti_data) # This function returns a copy with updated info so assign the copy to a new variable.\n",
    "\n",
    "# These two would now show different data\n",
    "print(my_updated_cti_data[\"[Factored Loads]\"])\n",
    "print(my_cti_data[\"[Factored Loads]\"]) \n",
    "```\n",
    "\n",
    "How do you make a copy in Python? You do so explicity by using `copy.deepcopy(obj)`.\n",
    "\n",
    "e.g. \n",
    "```python\n",
    "import copy\n",
    "\n",
    "my_new_cti_data = copy.deepcopy(cti_data) # deepcopy copies the container (the dictionary) and every piece of data within it\n",
    "```\n",
    "If you are going with Option 2, perform your copy as the first line of your function and perform all of your operations on the copy. You _might_ also need to copy your `factored_loads` input, depending on how you assign your new loads to your CTIFile dictionary. Your function tests can help you troubleshoot this."
   ]
  },
  {
   "cell_type": "markdown",
   "metadata": {},
   "source": [
    "## Task D Response"
   ]
  },
  {
   "cell_type": "code",
   "execution_count": 121,
   "metadata": {},
   "outputs": [
    {
     "name": "stdout",
     "output_type": "stream",
     "text": [
      "\u001b[32m.\u001b[0m\u001b[32m.\u001b[0m\u001b[32m.\u001b[0m\u001b[32m.\u001b[0m\u001b[32m                                                                                         [100%]\u001b[0m\n",
      "\u001b[32m\u001b[32m\u001b[1m4 passed\u001b[0m\u001b[32m in 0.04s\u001b[0m\u001b[0m\n"
     ]
    }
   ],
   "source": [
    "import copy\n",
    "\n",
    "def update_factored_loads(factored_loads: list[list[float]], cti_file: CTIFile) -> CTIFile:\n",
    "    \"\"\"\n",
    "    Returns 'cti_file' with its factored loads data replaced with the information in 'factored_loads'.\n",
    "    \"\"\"\n",
    "    new_cti_file = copy.deepcopy(cti_file)\n",
    "    new_factored_loads = copy.deepcopy(factored_loads)\n",
    "    num_loads = len(factored_loads)\n",
    "    new_cti_file['[Factored Loads]'] = new_factored_loads\n",
    "    new_cti_file['[Factored Loads]'].insert(0, [num_loads])\n",
    "    new_cti_file['[User Options]'][0][17] = num_loads\n",
    "    return new_cti_file\n",
    "\n",
    "\n",
    "def test_update_factored_loads():\n",
    "    new_loads = [[1000, 200, 300], [2000, 400, 600]]\n",
    "    test_data = {\n",
    "        \"# First line\": None,\n",
    "        \"[User Options]\": [[0, 1, 2, 3, 4, 5, 6, 7, 8, 9, 10, 11, 12, 13, 14, 15, 16, 17, 18, 19, 20, 21, 22, 23, 24, 25, 26, 27]],\n",
    "        \"[Factored Loads]\": [[1], [0, 1, 2]]\n",
    "    }\n",
    "    updated_test_data = update_factored_loads(new_loads, test_data)\n",
    "    assert updated_test_data[\"[Factored Loads]\"] == [[2], new_loads[0], new_loads[1]]\n",
    "    assert updated_test_data[\"[User Options]\"] == [[0, 1, 2, 3, 4, 5, 6, 7, 8, 9, 10, 11, 12, 13, 14, 15, 16, 2, 18, 19, 20, 21, 22, 23, 24, 25, 26, 27]]\n",
    "    \n",
    "ipytest.run()"
   ]
  },
  {
   "cell_type": "markdown",
   "metadata": {},
   "source": [
    "# Task E\n",
    "\n",
    "Now that you have written a function to update your factored loads, take a moment to appreciate what you now have: you have a program that can read any spColumn `.cti` file and allow you to easily update any of the data within it! Pretty neat, yeah?\n",
    "\n",
    "Since your cti file data is stored in the `CTIFile` dictionary, you can now access any parts of the file you want and update them directly, e.g. the reinforcement, the f'c, even the shape of the section itself!\n",
    "\n",
    "There is one final step: to write your updated data back to a _new_ `.cti` file.\n",
    "\n",
    "Your task is this: design a function that takes two arguments, a new file name (`str`) and a `CTIFile` dictionary. The function writes the data within the dictionary to the disk with the new file name and returns `None`.\n",
    "\n",
    "How to write a file to the disk?"
   ]
  },
  {
   "cell_type": "markdown",
   "metadata": {},
   "source": [
    "## Task E Response"
   ]
  },
  {
   "cell_type": "code",
   "execution_count": 126,
   "metadata": {},
   "outputs": [
    {
     "name": "stdout",
     "output_type": "stream",
     "text": [
      "\u001b[32m.\u001b[0m\u001b[32m.\u001b[0m\u001b[32m.\u001b[0m\u001b[32m.\u001b[0m\u001b[32m.\u001b[0m\u001b[32m                                                                                        [100%]\u001b[0m\n",
      "\u001b[32m\u001b[32m\u001b[1m5 passed\u001b[0m\u001b[32m in 0.04s\u001b[0m\u001b[0m\n"
     ]
    }
   ],
   "source": [
    "def save_cti_file(new_filename: str, cti_file: CTIFile) -> None:\n",
    "    \"\"\"\n",
    "    Returns None. Writes the data in 'cti_file' to a new file with 'new_filename'.\n",
    "    \"\"\"\n",
    "    with open(new_filename, 'w', newline='') as new_file:\n",
    "        cti_writer = csv.writer(new_file)\n",
    "        for section_heading, section_data in cti_file.items():\n",
    "            cti_writer.writerow([section_heading])\n",
    "            if section_data is not None:\n",
    "                for line in section_data:\n",
    "                    cti_writer.writerow(line)\n",
    "                    \n",
    "def test_save_cti_file():\n",
    "    test_cti = {\n",
    "        \"#First Row\": None,\n",
    "        \"[Second Section]\": [[\"Some data\"]],\n",
    "        \"[Third Section]\": [[1, 2, 3], [4, 5, 6]],\n",
    "        \"[Fourth Section]\": [[\"Some more data\"], [\"With another line\"]],\n",
    "    }\n",
    "    save_cti_file(\"new_test_file.cti\", test_cti)\n",
    "    acc = []\n",
    "    with open(\"new_test_file.cti\", 'r') as file:\n",
    "        for line in file.readlines():\n",
    "            acc.append(line)\n",
    "    assert acc[0] == \"#First Row\\n\"\n",
    "    assert acc[1] == \"[Second Section]\\n\"\n",
    "    assert acc[2] == \"Some data\\n\"\n",
    "    assert acc[3] == \"[Third Section]\\n\"\n",
    "    assert acc[4] == \"1,2,3\\n\"\n",
    "    assert acc[5] == \"4,5,6\\n\"\n",
    "    assert acc[6] == \"[Fourth Section]\\n\"\n",
    "    assert acc[7] == \"Some more data\\n\"\n",
    "    assert acc[8] == \"With another line\\n\"\n",
    "        \n",
    "ipytest.run()"
   ]
  },
  {
   "cell_type": "markdown",
   "metadata": {},
   "source": [
    "# Task F\n",
    "\n",
    "Now that you have written these functions that can read, alter, and write `.cti` file data (and functions to test them), we are going to put them into proper _Python modules_.\n",
    "\n",
    "1. Using JupyterLab, create a new Python file (click the blue \"+\" button at the top left and select \"New Python File\")\n",
    "2. Name the file `cti_reader.py`\n",
    "3. From the cells above, starting with the cell at the very top with the imports, copy your imports, functions, and data definition into the file. Put them in the following order: imports, data definition, functions\n",
    "4. Create another new Python file and name the file `test_cti_reader.py`\n",
    "5. At the top of the file write, `from cti_reader import *` and then copy all of your test functions into that file (you can omit the `ipytest.run()` parts)\n",
    "\n",
    "**Restart your notebook.** Then, in the cells below, perform the following:\n",
    "\n",
    "1. Type `import cti_reader` and run the cell. It should run without error.\n",
    "2. Use your functions to read and alter the factored loads in the file `300x900c55.cti`. To access your functions from your module, you will type things like...\n",
    "\n",
    "```python\n",
    "import cti_reader\n",
    "\n",
    "file_name = \"300x900c55.cti\"\n",
    "file_data = cti_reader.read_cti_file(file_name)\n",
    "converted_file_data = cti_reader.convert_strings_to_numbers(file_data)\n",
    "# ... etc.\n",
    "```\n",
    "3. Write the updated file with a new file name\n",
    "**4. Try opening your new file in spColumn and running the analysis**"
   ]
  },
  {
   "cell_type": "code",
   "execution_count": 1,
   "metadata": {},
   "outputs": [],
   "source": [
    "import cti_reader"
   ]
  },
  {
   "cell_type": "code",
   "execution_count": 4,
   "metadata": {},
   "outputs": [],
   "source": [
    "file_name = \"300x900c55.cti\"\n",
    "new_file_name = \"300x900c55-Updated.cti\"\n",
    "new_factored_loads = [[4000, 500, 600], [6000, 600, 600]]\n",
    "file_data = cti_reader.read_cti_file(file_name)\n",
    "converted_file_data = cti_reader.convert_strings_to_numbers(file_data)\n",
    "cti_data = cti_reader.file_data_to_ctifile(converted_file_data)\n",
    "new_cti_data = cti_reader.update_factored_loads(new_factored_loads, cti_data)\n",
    "cti_reader.save_cti_file(new_file_name, new_cti_data)"
   ]
  },
  {
   "cell_type": "code",
   "execution_count": null,
   "metadata": {},
   "outputs": [],
   "source": []
  },
  {
   "cell_type": "markdown",
   "metadata": {},
   "source": [
    "# Submit Workbook 06!"
   ]
  },
  {
   "cell_type": "code",
   "execution_count": null,
   "metadata": {},
   "outputs": [],
   "source": []
  }
 ],
 "metadata": {
  "kernelspec": {
   "display_name": "Python 3 (ipykernel)",
   "language": "python",
   "name": "python3"
  },
  "language_info": {
   "codemirror_mode": {
    "name": "ipython",
    "version": 3
   },
   "file_extension": ".py",
   "mimetype": "text/x-python",
   "name": "python",
   "nbconvert_exporter": "python",
   "pygments_lexer": "ipython3",
   "version": "3.9.7"
  }
 },
 "nbformat": 4,
 "nbformat_minor": 4
}
