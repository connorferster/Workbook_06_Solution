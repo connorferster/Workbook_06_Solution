{
 "cells": [
  {
   "cell_type": "code",
   "execution_count": 42,
   "metadata": {},
   "outputs": [],
   "source": [
    "from rich import inspect, print\n",
    "from dataclasses import dataclass\n",
    "from typing import Optional\n",
    "import ipytest\n",
    "ipytest.autoconfig()"
   ]
  },
  {
   "cell_type": "code",
   "execution_count": 43,
   "metadata": {},
   "outputs": [],
   "source": [
    "from matplotlib import pyplot"
   ]
  },
  {
   "cell_type": "markdown",
   "metadata": {},
   "source": [
    "# Workbook 6 - Designing Data\n"
   ]
  },
  {
   "cell_type": "markdown",
   "metadata": {},
   "source": [
    "# Task A\n",
    "\n",
    "Design a datatype to describe the shape of a rectangle. It should have the following attributes:\n",
    "\n",
    "* `origin` - a tuple to represent an x, y coordinate\n",
    "* `width`\n",
    "* `height`\n",
    "* `color` - Optional. A string representing one of the [matplotlib colors](matplotlib_colors.ipynb)\n",
    "\n",
    "Create two rectangles of any size and color and assign them each to a variable.\n",
    "\n",
    "Print your two rectangles to the notebook."
   ]
  },
  {
   "cell_type": "markdown",
   "metadata": {},
   "source": [
    "## Task A response"
   ]
  },
  {
   "cell_type": "code",
   "execution_count": 44,
   "metadata": {
    "tags": []
   },
   "outputs": [
    {
     "name": "stdout",
     "output_type": "stream",
     "text": [
      "Rectangle(origin=(10, 10), width=15.3, height=20, color='red')\n",
      "Rectangle(origin=(0, 0), width=10, height=10, color='goldenrod')\n"
     ]
    }
   ],
   "source": [
    "@dataclass\n",
    "class Rectangle:\n",
    "    origin: tuple[float, float] # x, y coordinate\n",
    "    width: float\n",
    "    height: float\n",
    "    color: Optional[str] = None\n",
    "    \n",
    "rect_1 = Rectangle((10, 10), 15.3, 20, \"red\")\n",
    "rect_2 = Rectangle((0, 0), 10, 10, 'goldenrod')\n",
    "\n",
    "print(rect_1)\n",
    "print(rect_2)"
   ]
  },
  {
   "cell_type": "markdown",
   "metadata": {},
   "source": [
    "### Reviewer Comments"
   ]
  },
  {
   "cell_type": "code",
   "execution_count": null,
   "metadata": {},
   "outputs": [],
   "source": []
  },
  {
   "cell_type": "markdown",
   "metadata": {},
   "source": [
    "# Task B\n",
    "\n",
    "Copy and paste your `Rectangle` data definition into the cell below.\n",
    "\n",
    "Create two \"methods\" (functions) under the class definition with the following names:\n",
    "1. `x`\n",
    "2. `y`\n",
    "\n",
    "Each method will only take one parameter called `self` (e.g. `def x(self):`). The parameter `self` means your data type will have access to the data contained within itself (i.e. `self.origin`, `self.width`, `self.height`, and `self.color`).\n",
    "\n",
    "The functions should each return a list of numbers representing, in either clockwise or anti-clockwise order (you choose), the coordinates of your rectangle based on the data in the data definition used to describe it. The function `x` will return the list of x-ordinates. The function `y` will return the list of y-ordinates.\n",
    "\n",
    "Note, the lists returned by each function should be exactly _five_ elements long (four coordinates in order + back to the original coordinate).\n",
    "    \n",
    "As usual for writing a function, be sure to write a complete function signature (with output types), docstring, and tests.\n",
    "\n",
    "Copy and paste your two example rectangles from **Task A** and run them at the bottom of your \"response\" cell.\n",
    "\n",
    "Try calling the methods on each of them to see what the results look like. "
   ]
  },
  {
   "cell_type": "markdown",
   "metadata": {},
   "source": [
    "## Task B response"
   ]
  },
  {
   "cell_type": "code",
   "execution_count": 45,
   "metadata": {},
   "outputs": [
    {
     "name": "stdout",
     "output_type": "stream",
     "text": [
      "[10, 25.3, 25.3, 10, 10]\n",
      "[10, 10, 30, 30, 10]\n"
     ]
    }
   ],
   "source": [
    "@dataclass\n",
    "class Rectangle:\n",
    "    origin: tuple[float, float] # x, y coordinate\n",
    "    width: float\n",
    "    height: float\n",
    "    color: Optional[str] = None\n",
    "    \n",
    "    def x(self) -> list[float]:\n",
    "        \"\"\"Returns a list representing the x-ordinates of the rectangle\"\"\"\n",
    "        x1 = self.origin[0]\n",
    "        x2 = x1 + self.width\n",
    "        return [x1, x2, x2, x1, x1]\n",
    "    \n",
    "    def y(self) -> list[float]:\n",
    "        \"\"\"Returns a list representing the y-ordinates of the rectangle\"\"\"\n",
    "        y1 = self.origin[1]\n",
    "        y2 = y1 + self.height\n",
    "        return [y1, y1, y2, y2, y1]\n",
    "        \n",
    "rect_1 = Rectangle((10, 10), 15.3, 20, \"red\")\n",
    "rect_2 = Rectangle((0, 0), 10, 10, 'goldenrod')\n",
    "\n",
    "print(rect_1.x())\n",
    "print(rect_1.y())"
   ]
  },
  {
   "cell_type": "markdown",
   "metadata": {},
   "source": [
    "## Task B tests"
   ]
  },
  {
   "cell_type": "code",
   "execution_count": 46,
   "metadata": {},
   "outputs": [
    {
     "name": "stdout",
     "output_type": "stream",
     "text": [
      "\u001b[32m.\u001b[0m\u001b[32m.\u001b[0m\u001b[32m.\u001b[0m\u001b[32m.\u001b[0m\u001b[32m                                                                                         [100%]\u001b[0m\n",
      "\u001b[32m\u001b[32m\u001b[1m4 passed\u001b[0m\u001b[32m in 0.03s\u001b[0m\u001b[0m\n"
     ]
    }
   ],
   "source": [
    "def test_rectangle_x():\n",
    "    test_rect = Rectangle((-1, -1), 10, 5)\n",
    "    test_rect_0 = Rectangle((0, 0), 0, 0)\n",
    "    assert test_rect.x() == [-1, 9, 9, -1, -1]\n",
    "    assert test_rect_0.x() == [0, 0, 0, 0, 0]\n",
    "    \n",
    "def test_rectangle_y():\n",
    "    test_rect = Rectangle((-1, -1), 10, 5)\n",
    "    test_rect_0 = Rectangle((0, 0), 0, 0)\n",
    "    assert test_rect.y() == [-1, -1, 4, 4, -1]\n",
    "    assert test_rect_0.y() == [0, 0, 0, 0, 0]\n",
    "    \n",
    "ipytest.run()"
   ]
  },
  {
   "cell_type": "markdown",
   "metadata": {},
   "source": [
    "### Reviewer comments"
   ]
  },
  {
   "cell_type": "code",
   "execution_count": null,
   "metadata": {},
   "outputs": [],
   "source": []
  },
  {
   "cell_type": "markdown",
   "metadata": {},
   "source": [
    "# Task C\n",
    "\n",
    "Copy and paste your data definition (and methods) from **Task B** into the cell below.\n",
    "\n",
    "Add another `Rectangle` data definition called `show`. This method also only takes `self` as a parameter.\n",
    "\n",
    "The method `show` should plot your rectangle using `matplotlib.pyplot` as shown in the Lesson 06 reference. You can use a keyword argument in `pyplot.plot()` to set the color with the color in your rectangle. Remember, you can use `pyplot.axis('equal')` to make the axes, well, equal!\n",
    "\n",
    "Because this method only returns `None`, you do not need to write a test for it."
   ]
  },
  {
   "cell_type": "markdown",
   "metadata": {},
   "source": [
    "## Task C response"
   ]
  },
  {
   "cell_type": "code",
   "execution_count": 47,
   "metadata": {},
   "outputs": [],
   "source": [
    "@dataclass\n",
    "class Rectangle:\n",
    "    origin: tuple[float, float] # x, y coordinate\n",
    "    width: float\n",
    "    height: float\n",
    "    color: Optional[str] = None\n",
    "    \n",
    "    def x(self) -> list[float]:\n",
    "        \"\"\"Returns a list representing the x-ordinates of the rectangle\"\"\"\n",
    "        x1 = self.origin[0]\n",
    "        x2 = x1 + self.width\n",
    "        return [x1, x2, x2, x1, x1]\n",
    "    \n",
    "    def y(self) -> list[float]:\n",
    "        \"\"\"Returns a list representing the y-ordinates of the rectangle\"\"\"\n",
    "        y1 = self.origin[1]\n",
    "        y2 = y1 + self.height\n",
    "        return [y1, y1, y2, y2, y1]\n",
    "    \n",
    "    def show(self) -> None:\n",
    "        \"\"\"Plots the rectangle to the notebook\"\"\"\n",
    "        pyplot.plot(self.x(), self.y(), color=self.color)\n",
    "        pyplot.axis('equal')\n",
    "        \n",
    "rect_1 = Rectangle((10, 10), 15.3, 20, \"red\")\n",
    "rect_2 = Rectangle((0, 0), 20, 20, 'green')"
   ]
  },
  {
   "cell_type": "markdown",
   "metadata": {},
   "source": [
    "### Reviewer comments"
   ]
  },
  {
   "cell_type": "code",
   "execution_count": null,
   "metadata": {},
   "outputs": [],
   "source": []
  },
  {
   "cell_type": "markdown",
   "metadata": {},
   "source": [
    "# Task D"
   ]
  },
  {
   "cell_type": "markdown",
   "metadata": {},
   "source": [
    "Copy and paste your data definition (and methods) from **Task C** into the cell below.\n",
    "\n",
    "Add one last method to your `Rectangle` data definition called `show_two`. _This_ method takes two parameters: the first is `self`, the second is a `Rectangle` type that you could call `other`.\n",
    "\n",
    "The method plots the original rectangle and then the other rectangle on the same plot. Because the method returns `None`, there is no need to write tests for this method.\n",
    "\n",
    "Try creating two `Rectangle` objects and using `.show_two` like this: `rect_1.show_two(rect_2)`."
   ]
  },
  {
   "cell_type": "markdown",
   "metadata": {},
   "source": [
    "## Task D response"
   ]
  },
  {
   "cell_type": "code",
   "execution_count": 48,
   "metadata": {},
   "outputs": [
    {
     "data": {
      "image/png": "[encoded data removed]",
      "text/plain": [
       "<Figure size 432x288 with 1 Axes>"
      ]
     },
     "metadata": {
      "needs_background": "light"
     },
     "output_type": "display_data"
    }
   ],
   "source": [
    "@dataclass\n",
    "class Rectangle:\n",
    "    origin: tuple[float, float] # x, y coordinate\n",
    "    width: float\n",
    "    height: float\n",
    "    color: Optional[str] = None\n",
    "    \n",
    "    def x(self) -> list[float]:\n",
    "        \"\"\"Returns a list representing the x-ordinates of the rectangle\"\"\"\n",
    "        x1 = self.origin[0]\n",
    "        x2 = x1 + self.width\n",
    "        return [x1, x2, x2, x1, x1]\n",
    "    \n",
    "    def y(self) -> list[float]:\n",
    "        \"\"\"Returns a list representing the y-ordinates of the rectangle\"\"\"\n",
    "        y1 = self.origin[1]\n",
    "        y2 = y1 + self.height\n",
    "        return [y1, y1, y2, y2, y1]\n",
    "    \n",
    "    def show(self) -> None:\n",
    "        \"\"\"Plots the rectangle to the notebook\"\"\"\n",
    "        pyplot.plot(self.x(), self.y(), color=self.color)\n",
    "        pyplot.axis('equal')\n",
    "        \n",
    "    def show_two(self, other: Rectangle) -> None:\n",
    "        \"\"\"Plots self and 'other' in the same plot\"\"\"\n",
    "        pyplot.plot(self.x(), self.y(), color = self.color)\n",
    "        pyplot.plot(other.x(), other.y(), color = other.color)\n",
    "        pyplot.axis('equal')\n",
    "        \n",
    "rect_1 = Rectangle((10, 10), 15.3, 20, \"red\")\n",
    "rect_2 = Rectangle((0, 0), 20, 20, 'teal')\n",
    "\n",
    "rect_1.show_two(rect_2)"
   ]
  },
  {
   "cell_type": "markdown",
   "metadata": {},
   "source": [
    "### Reviewer Comments"
   ]
  },
  {
   "cell_type": "code",
   "execution_count": null,
   "metadata": {},
   "outputs": [],
   "source": []
  },
  {
   "cell_type": "markdown",
   "metadata": {},
   "source": [
    "# Task E\n",
    "\n",
    "For your last task, design a standalone function called `check_overlap` that takes two `Rectangle` objects as parameters. \n",
    "\n",
    "Lets define \"overlap\" as being any time two rectangles are touching in any way, whether the two are touching at just one point, on an edge, or one is fully contained in the other.\n",
    "\n",
    "The function should return `True` if the two rectangles overlap and `False` otherwise."
   ]
  },
  {
   "cell_type": "markdown",
   "metadata": {},
   "source": [
    "## Task E response"
   ]
  },
  {
   "cell_type": "code",
   "execution_count": 49,
   "metadata": {},
   "outputs": [],
   "source": [
    "def check_overlap(a: Rectangle, b: Rectangle) -> bool:\n",
    "    \"\"\"Returns True if 'a' and 'b' rectangles overlap. False otherwise.\"\"\"\n",
    "    ax_min = min(a.x())\n",
    "    ax_max = max(a.x())\n",
    "    bx_min = min(b.x())\n",
    "    bx_max = max(b.x())\n",
    "    \n",
    "    ay_min = min(a.y())\n",
    "    ay_max = max(a.y())\n",
    "    by_min = min(b.y())\n",
    "    by_max = max(b.y())\n",
    "    \n",
    "    if not (\n",
    "        (ax_min <= bx_min <= ax_max) \n",
    "        or (ax_min <= bx_max <= ax_max)\n",
    "        or (bx_min <= ax_min <= bx_max)\n",
    "        or (bx_min <= ax_max <= bx_max)\n",
    "    ):\n",
    "        return False\n",
    "    elif not (\n",
    "        (ay_min <= by_min <= ay_max) \n",
    "        or (ay_min <= by_max <= ay_max)\n",
    "        or (by_min <= ay_min <= by_max)\n",
    "        or (by_min <= ay_max <= by_max)\n",
    "    ):\n",
    "        return False\n",
    "    else: \n",
    "        return True"
   ]
  },
  {
   "cell_type": "markdown",
   "metadata": {},
   "source": [
    "## Task E tests"
   ]
  },
  {
   "cell_type": "code",
   "execution_count": 50,
   "metadata": {},
   "outputs": [
    {
     "name": "stdout",
     "output_type": "stream",
     "text": [
      "\u001b[32m.\u001b[0m\u001b[32m.\u001b[0m\u001b[32m.\u001b[0m\u001b[32m.\u001b[0m\u001b[32m                                                                                         [100%]\u001b[0m\n",
      "\u001b[32m\u001b[32m\u001b[1m4 passed\u001b[0m\u001b[32m in 0.03s\u001b[0m\u001b[0m\n"
     ]
    }
   ],
   "source": [
    "def test_check_overlap():\n",
    "    # N touch\n",
    "    rect_1 = Rectangle((0, 0), 15.3, 20, \"red\")\n",
    "    rect_2 = Rectangle((0, 20), 20, 20, 'teal')\n",
    "    assert check_overlap(rect_1, rect_2) == True\n",
    "    \n",
    "    # Disjoint\n",
    "    rect_1 = Rectangle((200, 200), 14, 18, \"red\")\n",
    "    rect_2 = Rectangle((-20, 0), 20, 20, 'teal')\n",
    "    assert check_overlap(rect_1, rect_2) == False\n",
    "    \n",
    "    # SW touch\n",
    "    rect_1 = Rectangle((0, 0), 15.3, 20, \"red\")\n",
    "    rect_2 = Rectangle((-20, -20), 20, 20, 'teal')\n",
    "    assert check_overlap(rect_1, rect_2) == True\n",
    "    \n",
    "    # Contains (1 in 2)\n",
    "    rect_1 = Rectangle((-19, 1), 14, 18, \"red\")\n",
    "    rect_2 = Rectangle((-20, 0), 20, 20, 'teal')\n",
    "    assert check_overlap(rect_1, rect_2) == True\n",
    "    \n",
    "    # Contains (2 in 1)\n",
    "    rect_1 = Rectangle((-19, 1), 14, 18, \"red\")\n",
    "    rect_2 = Rectangle((-20, 0), 20, 20, 'teal')\n",
    "    assert check_overlap(rect_2, rect_1) == True\n",
    "        \n",
    "    # Typical\n",
    "    rect_1 = Rectangle((-10, -5), 14, 18, \"red\")\n",
    "    rect_2 = Rectangle((-20, 0), 20, 20, 'teal')\n",
    "    assert check_overlap(rect_1, rect_2) == True\n",
    "    \n",
    "ipytest.run()"
   ]
  },
  {
   "cell_type": "markdown",
   "metadata": {},
   "source": [
    "# Submit Workbook 06\n",
    "\n",
    "In this workbook, you started by defining a `Rectangle` data type with only three attributes: `origin`, `width`, `height`. You only explicitly defined one coordinate.\n",
    "\n",
    "1. By creating the _methods_ `x`, `y`, it became easy to design other methods (like `show` and `show_two`) without having to do very much work\n",
    "2. By creating the method `show_two` it allowed us to more easily write the `check_overlap` function because you could _see_ if two shapes overlap and should return either `True` or `False`\n",
    "3. You have gotten a taste of a different kind of approach to creating programs. In **Workbook 05** you created a series of functions that kind of worked like a pipeline to process data from a file into a desired output. In this workbook, you got a taste of \"object oriented programming\" where you:\n",
    "    1. Created the `Rectangle` _class_ of objects and then used the class to create rectangles with different data in them.\n",
    "    2. Designed a method called `show_two` which _composed_ objects together to create a useful output\n",
    "    3. Designed a function that operates on your objects which was probably easier than writing a function that operated on lists of numbers that representing rectangles.\n",
    "\n",
    "Next week, you are going to design an interactive web interface in Jupyter (complete with text entry boxes, sliders, dropdowns, etc.) which you can use to interact with either sympy `Beam` objects or your `Rectangles`.\n",
    "\n",
    "For now, email your completed workbook to me at `cferster@rjc.ca` with the subject line `Workbook 06 Submission`\n"
   ]
  },
  {
   "cell_type": "markdown",
   "metadata": {},
   "source": [
    "---"
   ]
  },
  {
   "cell_type": "markdown",
   "metadata": {},
   "source": [
    "# Task F (Bonus - not required)\n",
    "\n",
    "Design a function called `check_strict_overlap` that is similar to `check_overlap` except it returns `False` if the rectangles are touching at a single point, touching on an edge, or are completely disjoint. Returns `True` otherwise.\n",
    "\n",
    "There are a lot of test cases to check with this one so, if you want to do the bonus, I have included a test suite you can run to check if your `check_strict_overlap` can pass all of the tests."
   ]
  },
  {
   "cell_type": "code",
   "execution_count": 51,
   "metadata": {},
   "outputs": [],
   "source": [
    "def check_strict_overlap(a: Rectangle, b: Rectangle) -> bool:\n",
    "    \"\"\"Returns True if 'a' and 'b' rectangles overlap. False otherwise.\"\"\"\n",
    "    ax_min = min(a.x())\n",
    "    ax_max = max(a.x())\n",
    "    bx_min = min(b.x())\n",
    "    bx_max = max(b.x())\n",
    "    \n",
    "    ay_min = min(a.y())\n",
    "    ay_max = max(a.y())\n",
    "    by_min = min(b.y())\n",
    "    by_max = max(b.y())\n",
    "    \n",
    "    x_conditions = [\n",
    "        (ax_min < bx_min < ax_max),\n",
    "        (ax_min < bx_max < ax_max),\n",
    "        (bx_min < ax_min < bx_max),\n",
    "        (bx_min < ax_max < bx_max),\n",
    "        (ax_min == bx_min),\n",
    "        (ax_max == bx_max),\n",
    "    ]\n",
    "    \n",
    "    y_conditions = [\n",
    "        (ay_min < by_min < ay_max),\n",
    "        (ay_min < by_max < ay_max),\n",
    "        (by_min < ay_min < by_max),\n",
    "        (by_min < ay_max < by_max),\n",
    "        (ay_min == by_min),\n",
    "        (ay_max == by_max),\n",
    "    ]\n",
    "    \n",
    "    x_conds_met = sum(x_conditions)\n",
    "    y_conds_met = sum(y_conditions)\n",
    "    print(f\"{x_conds_met=}\")\n",
    "    print(f\"{y_conds_met=}\")\n",
    "    \n",
    "    if (x_conds_met >= 1) and (y_conds_met >= 1):\n",
    "        return True\n",
    "    return False"
   ]
  },
  {
   "cell_type": "markdown",
   "metadata": {},
   "source": [
    "## Bonus test suite"
   ]
  },
  {
   "cell_type": "code",
   "execution_count": 52,
   "metadata": {},
   "outputs": [],
   "source": [
    "def test_strict_overlap():\n",
    "    # N touch\n",
    "    rect_1 = Rectangle((0, 0), 15.3, 20, \"red\")\n",
    "    rect_2 = Rectangle((0, 20), 20, 20, 'teal')\n",
    "    assert check_strict_overlap(rect_1, rect_2) == False\n",
    "\n",
    "    # NE corner touch\n",
    "    rect_1 = Rectangle((0, 0), 15.3, 20, \"red\")\n",
    "    rect_2 = Rectangle((15.3, 20), 20, 20, 'teal')\n",
    "    assert check_strict_overlap(rect_1, rect_2) == False\n",
    "\n",
    "    # E touch\n",
    "    rect_1 = Rectangle((0, 0), 15.3, 20, \"red\")\n",
    "    rect_2 = Rectangle((15.3, 0), 20, 20, 'teal')\n",
    "    assert check_strict_overlap(rect_1, rect_2) == False\n",
    "\n",
    "    # SE corner touch\n",
    "    rect_1 = Rectangle((0, 0), 15.3, 20, \"red\")\n",
    "    rect_2 = Rectangle((15.3, -20), 20, 20, 'teal')\n",
    "    assert check_strict_overlap(rect_1, rect_2) == False\n",
    "\n",
    "    # S touch\n",
    "    rect_1 = Rectangle((0, 0), 15.3, 20, \"red\")\n",
    "    rect_2 = Rectangle((0, -20), 20, 20, 'teal')\n",
    "    assert check_strict_overlap(rect_1, rect_2) == False\n",
    "\n",
    "    # SW touch\n",
    "    rect_1 = Rectangle((0, 0), 15.3, 20, \"red\")\n",
    "    rect_2 = Rectangle((-20, -20), 20, 20, 'teal')\n",
    "    assert check_strict_overlap(rect_1, rect_2) == False\n",
    "\n",
    "    # W touch\n",
    "    rect_1 = Rectangle((0, 0), 15.3, 20, \"red\")\n",
    "    rect_2 = Rectangle((-20, 0), 20, 20, 'teal')\n",
    "    assert check_strict_overlap(rect_1, rect_2) == False\n",
    "\n",
    "    # NW touch\n",
    "    rect_1 = Rectangle((0, 0), 15.3, 20, \"red\")\n",
    "    rect_2 = Rectangle((-20, 20), 20, 20, 'teal')\n",
    "    assert check_strict_overlap(rect_1, rect_2) == False\n",
    "\n",
    "    # 2 contains 1\n",
    "    rect_1 = Rectangle((-19, 1), 14, 18, \"red\")\n",
    "    rect_2 = Rectangle((-20, 0), 20, 20, 'teal')\n",
    "    assert check_strict_overlap(rect_1, rect_2) == True\n",
    "    \n",
    "    # 1 contains 2\n",
    "    rect_1 = Rectangle((-19, 1), 14, 18, \"red\")\n",
    "    rect_2 = Rectangle((-20, 0), 20, 20, 'teal')\n",
    "    assert check_strict_overlap(rect_1, rect_2) == True\n",
    "\n",
    "    # Disjoint\n",
    "    rect_1 = Rectangle((200, 200), 14, 18, \"red\")\n",
    "    rect_2 = Rectangle((-20, 0), 20, 20, 'teal')\n",
    "    assert check_strict_overlap(rect_1, rect_2) == False\n",
    "    \n",
    "    # Typical\n",
    "    rect_1 = Rectangle((-10, -5), 14, 18, \"red\")\n",
    "    rect_2 = Rectangle((-20, 0), 20, 20, 'teal')\n",
    "    assert check_overlap(rect_1, rect_2) == True\n",
    "    \n",
    "#  ipytest.run() # Uncomment to run this test"
   ]
  },
  {
   "cell_type": "code",
   "execution_count": null,
   "metadata": {},
   "outputs": [],
   "source": []
  }
 ],
 "metadata": {
  "kernelspec": {
   "display_name": "Python 3 (ipykernel)",
   "language": "python",
   "name": "python3"
  },
  "language_info": {
   "codemirror_mode": {
    "name": "ipython",
    "version": 3
   },
   "file_extension": ".py",
   "mimetype": "text/x-python",
   "name": "python",
   "nbconvert_exporter": "python",
   "pygments_lexer": "ipython3",
   "version": "3.9.7"
  }
 },
 "nbformat": 4,
 "nbformat_minor": 4
}
